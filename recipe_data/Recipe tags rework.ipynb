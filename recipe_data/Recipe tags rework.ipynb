{
 "cells": [
  {
   "cell_type": "code",
   "execution_count": 1,
   "metadata": {},
   "outputs": [],
   "source": [
    "from psycopg2 import connect as pgconnect\n",
    "import snowflake.connector\n",
    "import pandas as pd\n",
    "import string\n",
    "\n",
    "%matplotlib inline\n",
    "import matplotlib.pyplot as plt\n",
    "plt.rcParams['figure.figsize'] = (20,20)\n",
    "\n",
    "from IPython.display import SVG\n",
    "from IPython.core.interactiveshell import InteractiveShell\n",
    "InteractiveShell.ast_node_interactivity = \"all\""
   ]
  },
  {
   "cell_type": "code",
   "execution_count": 9,
   "metadata": {
    "scrolled": false
   },
   "outputs": [
    {
     "data": {
      "text/plain": [
       "(1522, 10)"
      ]
     },
     "execution_count": 9,
     "metadata": {},
     "output_type": "execute_result"
    }
   ],
   "source": [
    "recipe_all = pd.read_csv('/Users/xun/Documents/Thesis/recipe_data/recipe_data_v2.csv')\n",
    "recipe_all.shape # (2060, 15)"
   ]
  },
  {
   "cell_type": "code",
   "execution_count": 4,
   "metadata": {},
   "outputs": [
    {
     "data": {
      "text/html": [
       "<div>\n",
       "<style scoped>\n",
       "    .dataframe tbody tr th:only-of-type {\n",
       "        vertical-align: middle;\n",
       "    }\n",
       "\n",
       "    .dataframe tbody tr th {\n",
       "        vertical-align: top;\n",
       "    }\n",
       "\n",
       "    .dataframe thead th {\n",
       "        text-align: right;\n",
       "    }\n",
       "</style>\n",
       "<table border=\"1\" class=\"dataframe\">\n",
       "  <thead>\n",
       "    <tr style=\"text-align: right;\">\n",
       "      <th></th>\n",
       "      <th>publishdate</th>\n",
       "      <th>content_id</th>\n",
       "      <th>title_en</th>\n",
       "      <th>cuisine</th>\n",
       "      <th>difficulty</th>\n",
       "      <th>mealtype</th>\n",
       "      <th>diettype</th>\n",
       "      <th>cooking_method</th>\n",
       "      <th>steps</th>\n",
       "      <th>ingredients</th>\n",
       "    </tr>\n",
       "  </thead>\n",
       "  <tbody>\n",
       "    <tr>\n",
       "      <th>0</th>\n",
       "      <td>2017-04-29</td>\n",
       "      <td>R702</td>\n",
       "      <td>Braised chicken with couscous</td>\n",
       "      <td>african</td>\n",
       "      <td>medium</td>\n",
       "      <td>main</td>\n",
       "      <td>non-vegetarian</td>\n",
       "      <td>marinating,roasting,slow-cooking,steaming</td>\n",
       "      <td>\"Deglaze with some of the chicken stock.\" \"In ...</td>\n",
       "      <td>{\"chicken legs\",\"chicken stock (divided)\",\"cou...</td>\n",
       "    </tr>\n",
       "    <tr>\n",
       "      <th>1</th>\n",
       "      <td>2017-11-05</td>\n",
       "      <td>R943</td>\n",
       "      <td>Lamb and quince tagine</td>\n",
       "      <td>african</td>\n",
       "      <td>medium</td>\n",
       "      <td>main</td>\n",
       "      <td>non-vegetarian</td>\n",
       "      <td>NaN</td>\n",
       "      <td>\"Heat olive oil and butter in a tagine or larg...</td>\n",
       "      <td>{\"butter\",\"cilantro for garnishing\",\"ground ci...</td>\n",
       "    </tr>\n",
       "    <tr>\n",
       "      <th>2</th>\n",
       "      <td>2018-07-24</td>\n",
       "      <td>R1295</td>\n",
       "      <td>East African-style coconut chicken</td>\n",
       "      <td>african</td>\n",
       "      <td>medium</td>\n",
       "      <td>main</td>\n",
       "      <td>non-vegetarian</td>\n",
       "      <td>sauteing</td>\n",
       "      <td>\"Add the onions, garlic, and ginger to the pot...</td>\n",
       "      <td>{\"canned crushed tomatoes\",\"chicken legs\",\"cin...</td>\n",
       "    </tr>\n",
       "    <tr>\n",
       "      <th>3</th>\n",
       "      <td>2017-02-02</td>\n",
       "      <td>R574</td>\n",
       "      <td>Moroccan-inspired chickpea stew</td>\n",
       "      <td>african</td>\n",
       "      <td>easy</td>\n",
       "      <td>main</td>\n",
       "      <td>vegetarian</td>\n",
       "      <td>stewing</td>\n",
       "      <td>\"Add chickpeas to stew and let simmer for appr...</td>\n",
       "      <td>{\"apple cider vinegar (optional)\",\"black peppe...</td>\n",
       "    </tr>\n",
       "    <tr>\n",
       "      <th>4</th>\n",
       "      <td>2015-06-29</td>\n",
       "      <td>R256</td>\n",
       "      <td>Coleslaw with cranberries</td>\n",
       "      <td>american</td>\n",
       "      <td>easy</td>\n",
       "      <td>others</td>\n",
       "      <td>vegetarian</td>\n",
       "      <td>marinating</td>\n",
       "      <td>\"Finely chop parsley. Roughly chop cranberries...</td>\n",
       "      <td>{\"buttermilk\",\"cabbage\",\"carrots\",\"cranberries...</td>\n",
       "    </tr>\n",
       "  </tbody>\n",
       "</table>\n",
       "</div>"
      ],
      "text/plain": [
       "  publishdate content_id                            title_en   cuisine  \\\n",
       "0  2017-04-29       R702       Braised chicken with couscous   african   \n",
       "1  2017-11-05       R943              Lamb and quince tagine   african   \n",
       "2  2018-07-24      R1295  East African-style coconut chicken   african   \n",
       "3  2017-02-02       R574     Moroccan-inspired chickpea stew   african   \n",
       "4  2015-06-29       R256           Coleslaw with cranberries  american   \n",
       "\n",
       "  difficulty mealtype        diettype  \\\n",
       "0     medium     main  non-vegetarian   \n",
       "1     medium     main  non-vegetarian   \n",
       "2     medium     main  non-vegetarian   \n",
       "3       easy     main      vegetarian   \n",
       "4       easy   others      vegetarian   \n",
       "\n",
       "                              cooking_method  \\\n",
       "0  marinating,roasting,slow-cooking,steaming   \n",
       "1                                        NaN   \n",
       "2                                   sauteing   \n",
       "3                                    stewing   \n",
       "4                                 marinating   \n",
       "\n",
       "                                               steps  \\\n",
       "0  \"Deglaze with some of the chicken stock.\" \"In ...   \n",
       "1  \"Heat olive oil and butter in a tagine or larg...   \n",
       "2  \"Add the onions, garlic, and ginger to the pot...   \n",
       "3  \"Add chickpeas to stew and let simmer for appr...   \n",
       "4  \"Finely chop parsley. Roughly chop cranberries...   \n",
       "\n",
       "                                         ingredients  \n",
       "0  {\"chicken legs\",\"chicken stock (divided)\",\"cou...  \n",
       "1  {\"butter\",\"cilantro for garnishing\",\"ground ci...  \n",
       "2  {\"canned crushed tomatoes\",\"chicken legs\",\"cin...  \n",
       "3  {\"apple cider vinegar (optional)\",\"black peppe...  \n",
       "4  {\"buttermilk\",\"cabbage\",\"carrots\",\"cranberries...  "
      ]
     },
     "execution_count": 4,
     "metadata": {},
     "output_type": "execute_result"
    }
   ],
   "source": [
    "recipe_all.head()"
   ]
  },
  {
   "cell_type": "code",
   "execution_count": 11,
   "metadata": {},
   "outputs": [
    {
     "data": {
      "text/plain": [
       "['african',\n",
       " 'american',\n",
       " 'chinese',\n",
       " 'french',\n",
       " 'german',\n",
       " 'greek',\n",
       " 'indian',\n",
       " 'italian',\n",
       " 'japanese',\n",
       " 'korean',\n",
       " 'middle-eastern',\n",
       " 'others',\n",
       " 'spanish-and-portuguese',\n",
       " 'thai',\n",
       " 'vietnamese']"
      ]
     },
     "execution_count": 11,
     "metadata": {},
     "output_type": "execute_result"
    }
   ],
   "source": [
    "list(recipe_all.cuisine.unique())"
   ]
  },
  {
   "cell_type": "code",
   "execution_count": 12,
   "metadata": {},
   "outputs": [
    {
     "data": {
      "text/plain": [
       "'{\"chicken legs\",\"chicken stock (divided)\",\"couscous\",\"cumin\",\"garlic\",\"green bell pepper\",\"honey\",\"lemon juice\",\"onions\",\"parsley for garnish\",\"pepper\",\"raisins\",\"rapeseed oil (divided)\",\"red bell pepper\",\"salt\",\"spicy paprika\",\"turmeric\",\"yellow bell pepper\"}'"
      ]
     },
     "execution_count": 12,
     "metadata": {},
     "output_type": "execute_result"
    },
    {
     "data": {
      "text/plain": [
       "'\"Deglaze with some of the chicken stock.\" \"In the meantime, wash bell peppers. Remove seeds and cut into strips. Rinse raisins under cold water. Add cut bell peppers, raisins, couscous, and remaining chicken stock to tagine, cover, and continue to simmer for approx. 10 min.\" \"Peel and slice onions and garlic. Remove chicken legs from marinade and carefully drain. Heat oil in the bottom of the tagine over medium-high heat. Add chicken legs, garlic, and onion and fry until deep golden-brown on all sides.\" \"Place the lid on the tagine. Let simmer for approx. 80 min.\" \"Season with lemon juice, salt, and pepper. Garnish with parsley. Serve directly in the tagine. Enjoy!\" \"Wash and dry chicken legs. Mix a part of rapeseed oil with honey until smooth. Add turmeric, cumin, cinnamon, spicy paprika, salt, and pepper. In a large bowl or a freezer bag, toss chicken legs in marinade. Seal or cover and marinate overnight in the refrigerator.\"'"
      ]
     },
     "execution_count": 12,
     "metadata": {},
     "output_type": "execute_result"
    }
   ],
   "source": [
    "recipe_all['ingredients'][0]\n",
    "recipe_all['steps'][0]"
   ]
  },
  {
   "cell_type": "code",
   "execution_count": 13,
   "metadata": {},
   "outputs": [],
   "source": [
    "recipe_all['ingredients']=recipe_all['ingredients'].str.replace('{','')\n",
    "recipe_all['ingredients']=recipe_all['ingredients'].str.replace('}','')\n",
    "recipe_all['ingredients']=recipe_all['ingredients'].str.replace('\"','')\n",
    "recipe_all['ingredients']= recipe_all['ingredients'].str.split(',')\n",
    "recipe_all['steps']=recipe_all['steps'].str.replace('\"','')"
   ]
  },
  {
   "cell_type": "code",
   "execution_count": 14,
   "metadata": {},
   "outputs": [],
   "source": [
    "def count_word_from_text(text):\n",
    "    text_to_list = text.split()\n",
    "    count_word = len(text_to_list)\n",
    "    return count_word"
   ]
  },
  {
   "cell_type": "code",
   "execution_count": 15,
   "metadata": {},
   "outputs": [
    {
     "data": {
      "text/plain": [
       "'Deglaze with some of the chicken stock. In the meantime, wash bell peppers. Remove seeds and cut into strips. Rinse raisins under cold water. Add cut bell peppers, raisins, couscous, and remaining chicken stock to tagine, cover, and continue to simmer for approx. 10 min. Peel and slice onions and garlic. Remove chicken legs from marinade and carefully drain. Heat oil in the bottom of the tagine over medium-high heat. Add chicken legs, garlic, and onion and fry until deep golden-brown on all sides. Place the lid on the tagine. Let simmer for approx. 80 min. Season with lemon juice, salt, and pepper. Garnish with parsley. Serve directly in the tagine. Enjoy! Wash and dry chicken legs. Mix a part of rapeseed oil with honey until smooth. Add turmeric, cumin, cinnamon, spicy paprika, salt, and pepper. In a large bowl or a freezer bag, toss chicken legs in marinade. Seal or cover and marinate overnight in the refrigerator.'"
      ]
     },
     "execution_count": 15,
     "metadata": {},
     "output_type": "execute_result"
    },
    {
     "data": {
      "text/plain": [
       "158"
      ]
     },
     "execution_count": 15,
     "metadata": {},
     "output_type": "execute_result"
    }
   ],
   "source": [
    "recipe_all['steps'][0]\n",
    "count_word_from_text(recipe_all['steps'][0])"
   ]
  },
  {
   "cell_type": "code",
   "execution_count": 16,
   "metadata": {},
   "outputs": [
    {
     "data": {
      "text/plain": [
       "['chicken legs',\n",
       " 'chicken stock (divided)',\n",
       " 'couscous',\n",
       " 'cumin',\n",
       " 'garlic',\n",
       " 'green bell pepper',\n",
       " 'honey',\n",
       " 'lemon juice',\n",
       " 'onions',\n",
       " 'parsley for garnish',\n",
       " 'pepper',\n",
       " 'raisins',\n",
       " 'rapeseed oil (divided)',\n",
       " 'red bell pepper',\n",
       " 'salt',\n",
       " 'spicy paprika',\n",
       " 'turmeric',\n",
       " 'yellow bell pepper']"
      ]
     },
     "execution_count": 16,
     "metadata": {},
     "output_type": "execute_result"
    },
    {
     "data": {
      "text/plain": [
       "18"
      ]
     },
     "execution_count": 16,
     "metadata": {},
     "output_type": "execute_result"
    }
   ],
   "source": [
    "recipe_all['ingredients'][0]\n",
    "len(recipe_all.ingredients[0])"
   ]
  },
  {
   "cell_type": "code",
   "execution_count": 17,
   "metadata": {},
   "outputs": [],
   "source": [
    "#get the mean of len(steps) and #ingredients\n",
    "recipe_all['#ingredients'] = recipe_all.ingredients.apply(len)\n",
    "recipe_all['steps_length'] = recipe_all.steps.apply(count_word_from_text)"
   ]
  },
  {
   "cell_type": "code",
   "execution_count": 18,
   "metadata": {},
   "outputs": [
    {
     "data": {
      "text/html": [
       "<div>\n",
       "<style scoped>\n",
       "    .dataframe tbody tr th:only-of-type {\n",
       "        vertical-align: middle;\n",
       "    }\n",
       "\n",
       "    .dataframe tbody tr th {\n",
       "        vertical-align: top;\n",
       "    }\n",
       "\n",
       "    .dataframe thead th {\n",
       "        text-align: right;\n",
       "    }\n",
       "</style>\n",
       "<table border=\"1\" class=\"dataframe\">\n",
       "  <thead>\n",
       "    <tr style=\"text-align: right;\">\n",
       "      <th></th>\n",
       "      <th>steps</th>\n",
       "      <th>ingredients</th>\n",
       "      <th>#ingredients</th>\n",
       "      <th>steps_length</th>\n",
       "    </tr>\n",
       "  </thead>\n",
       "  <tbody>\n",
       "    <tr>\n",
       "      <th>0</th>\n",
       "      <td>Deglaze with some of the chicken stock. In the...</td>\n",
       "      <td>[chicken legs, chicken stock (divided), cousco...</td>\n",
       "      <td>18</td>\n",
       "      <td>158</td>\n",
       "    </tr>\n",
       "  </tbody>\n",
       "</table>\n",
       "</div>"
      ],
      "text/plain": [
       "                                               steps  \\\n",
       "0  Deglaze with some of the chicken stock. In the...   \n",
       "\n",
       "                                         ingredients  #ingredients  \\\n",
       "0  [chicken legs, chicken stock (divided), cousco...            18   \n",
       "\n",
       "   steps_length  \n",
       "0           158  "
      ]
     },
     "execution_count": 18,
     "metadata": {},
     "output_type": "execute_result"
    }
   ],
   "source": [
    "recipe_all.iloc[0:1,-4:]"
   ]
  },
  {
   "cell_type": "code",
   "execution_count": 19,
   "metadata": {},
   "outputs": [
    {
     "data": {
      "text/html": [
       "<div>\n",
       "<style scoped>\n",
       "    .dataframe tbody tr th:only-of-type {\n",
       "        vertical-align: middle;\n",
       "    }\n",
       "\n",
       "    .dataframe tbody tr th {\n",
       "        vertical-align: top;\n",
       "    }\n",
       "\n",
       "    .dataframe thead th {\n",
       "        text-align: right;\n",
       "    }\n",
       "</style>\n",
       "<table border=\"1\" class=\"dataframe\">\n",
       "  <thead>\n",
       "    <tr style=\"text-align: right;\">\n",
       "      <th></th>\n",
       "      <th>publishdate</th>\n",
       "      <th>content_id</th>\n",
       "      <th>title_en</th>\n",
       "      <th>cuisine</th>\n",
       "      <th>difficulty</th>\n",
       "      <th>mealtype</th>\n",
       "      <th>diettype</th>\n",
       "      <th>cooking_method</th>\n",
       "      <th>steps</th>\n",
       "      <th>ingredients</th>\n",
       "      <th>#ingredients</th>\n",
       "      <th>steps_length</th>\n",
       "    </tr>\n",
       "  </thead>\n",
       "  <tbody>\n",
       "    <tr>\n",
       "      <th>0</th>\n",
       "      <td>&lt;class 'str'&gt;</td>\n",
       "      <td>&lt;class 'str'&gt;</td>\n",
       "      <td>&lt;class 'str'&gt;</td>\n",
       "      <td>&lt;class 'str'&gt;</td>\n",
       "      <td>&lt;class 'str'&gt;</td>\n",
       "      <td>&lt;class 'str'&gt;</td>\n",
       "      <td>&lt;class 'str'&gt;</td>\n",
       "      <td>&lt;class 'str'&gt;</td>\n",
       "      <td>&lt;class 'str'&gt;</td>\n",
       "      <td>&lt;class 'list'&gt;</td>\n",
       "      <td>&lt;class 'int'&gt;</td>\n",
       "      <td>&lt;class 'int'&gt;</td>\n",
       "    </tr>\n",
       "    <tr>\n",
       "      <th>1</th>\n",
       "      <td>&lt;class 'str'&gt;</td>\n",
       "      <td>&lt;class 'str'&gt;</td>\n",
       "      <td>&lt;class 'str'&gt;</td>\n",
       "      <td>&lt;class 'str'&gt;</td>\n",
       "      <td>&lt;class 'str'&gt;</td>\n",
       "      <td>&lt;class 'str'&gt;</td>\n",
       "      <td>&lt;class 'str'&gt;</td>\n",
       "      <td>&lt;class 'float'&gt;</td>\n",
       "      <td>&lt;class 'str'&gt;</td>\n",
       "      <td>&lt;class 'list'&gt;</td>\n",
       "      <td>&lt;class 'int'&gt;</td>\n",
       "      <td>&lt;class 'int'&gt;</td>\n",
       "    </tr>\n",
       "    <tr>\n",
       "      <th>2</th>\n",
       "      <td>&lt;class 'str'&gt;</td>\n",
       "      <td>&lt;class 'str'&gt;</td>\n",
       "      <td>&lt;class 'str'&gt;</td>\n",
       "      <td>&lt;class 'str'&gt;</td>\n",
       "      <td>&lt;class 'str'&gt;</td>\n",
       "      <td>&lt;class 'str'&gt;</td>\n",
       "      <td>&lt;class 'str'&gt;</td>\n",
       "      <td>&lt;class 'str'&gt;</td>\n",
       "      <td>&lt;class 'str'&gt;</td>\n",
       "      <td>&lt;class 'list'&gt;</td>\n",
       "      <td>&lt;class 'int'&gt;</td>\n",
       "      <td>&lt;class 'int'&gt;</td>\n",
       "    </tr>\n",
       "    <tr>\n",
       "      <th>3</th>\n",
       "      <td>&lt;class 'str'&gt;</td>\n",
       "      <td>&lt;class 'str'&gt;</td>\n",
       "      <td>&lt;class 'str'&gt;</td>\n",
       "      <td>&lt;class 'str'&gt;</td>\n",
       "      <td>&lt;class 'str'&gt;</td>\n",
       "      <td>&lt;class 'str'&gt;</td>\n",
       "      <td>&lt;class 'str'&gt;</td>\n",
       "      <td>&lt;class 'str'&gt;</td>\n",
       "      <td>&lt;class 'str'&gt;</td>\n",
       "      <td>&lt;class 'list'&gt;</td>\n",
       "      <td>&lt;class 'int'&gt;</td>\n",
       "      <td>&lt;class 'int'&gt;</td>\n",
       "    </tr>\n",
       "    <tr>\n",
       "      <th>4</th>\n",
       "      <td>&lt;class 'str'&gt;</td>\n",
       "      <td>&lt;class 'str'&gt;</td>\n",
       "      <td>&lt;class 'str'&gt;</td>\n",
       "      <td>&lt;class 'str'&gt;</td>\n",
       "      <td>&lt;class 'str'&gt;</td>\n",
       "      <td>&lt;class 'str'&gt;</td>\n",
       "      <td>&lt;class 'str'&gt;</td>\n",
       "      <td>&lt;class 'str'&gt;</td>\n",
       "      <td>&lt;class 'str'&gt;</td>\n",
       "      <td>&lt;class 'list'&gt;</td>\n",
       "      <td>&lt;class 'int'&gt;</td>\n",
       "      <td>&lt;class 'int'&gt;</td>\n",
       "    </tr>\n",
       "  </tbody>\n",
       "</table>\n",
       "</div>"
      ],
      "text/plain": [
       "     publishdate     content_id       title_en        cuisine     difficulty  \\\n",
       "0  <class 'str'>  <class 'str'>  <class 'str'>  <class 'str'>  <class 'str'>   \n",
       "1  <class 'str'>  <class 'str'>  <class 'str'>  <class 'str'>  <class 'str'>   \n",
       "2  <class 'str'>  <class 'str'>  <class 'str'>  <class 'str'>  <class 'str'>   \n",
       "3  <class 'str'>  <class 'str'>  <class 'str'>  <class 'str'>  <class 'str'>   \n",
       "4  <class 'str'>  <class 'str'>  <class 'str'>  <class 'str'>  <class 'str'>   \n",
       "\n",
       "        mealtype       diettype   cooking_method          steps  \\\n",
       "0  <class 'str'>  <class 'str'>    <class 'str'>  <class 'str'>   \n",
       "1  <class 'str'>  <class 'str'>  <class 'float'>  <class 'str'>   \n",
       "2  <class 'str'>  <class 'str'>    <class 'str'>  <class 'str'>   \n",
       "3  <class 'str'>  <class 'str'>    <class 'str'>  <class 'str'>   \n",
       "4  <class 'str'>  <class 'str'>    <class 'str'>  <class 'str'>   \n",
       "\n",
       "      ingredients   #ingredients   steps_length  \n",
       "0  <class 'list'>  <class 'int'>  <class 'int'>  \n",
       "1  <class 'list'>  <class 'int'>  <class 'int'>  \n",
       "2  <class 'list'>  <class 'int'>  <class 'int'>  \n",
       "3  <class 'list'>  <class 'int'>  <class 'int'>  \n",
       "4  <class 'list'>  <class 'int'>  <class 'int'>  "
      ]
     },
     "execution_count": 19,
     "metadata": {},
     "output_type": "execute_result"
    }
   ],
   "source": [
    "recipe_all.head().applymap(type)"
   ]
  },
  {
   "cell_type": "code",
   "execution_count": 20,
   "metadata": {},
   "outputs": [
    {
     "data": {
      "text/plain": [
       "150.2437582128778"
      ]
     },
     "execution_count": 20,
     "metadata": {},
     "output_type": "execute_result"
    }
   ],
   "source": [
    "recipe_all['steps_length'].mean()"
   ]
  },
  {
   "cell_type": "code",
   "execution_count": 21,
   "metadata": {},
   "outputs": [
    {
     "data": {
      "text/plain": [
       "12.170827858081472"
      ]
     },
     "execution_count": 21,
     "metadata": {},
     "output_type": "execute_result"
    }
   ],
   "source": [
    "recipe_all['#ingredients'].mean()"
   ]
  },
  {
   "cell_type": "code",
   "execution_count": null,
   "metadata": {},
   "outputs": [],
   "source": [
    "##################\n",
    "#average length of recipe step text is 817 characters, 150 words \n",
    "#and average number of ingredient is 11\n",
    "################"
   ]
  },
  {
   "cell_type": "code",
   "execution_count": 24,
   "metadata": {},
   "outputs": [],
   "source": [
    "recipe_all.to_csv(r'/Users/xun/Documents/Thesis/recipe_data/recipe_data_processed.csv', index = None)\n"
   ]
  }
 ],
 "metadata": {
  "kernelspec": {
   "display_name": "Python 3",
   "language": "python",
   "name": "python3"
  },
  "language_info": {
   "codemirror_mode": {
    "name": "ipython",
    "version": 3
   },
   "file_extension": ".py",
   "mimetype": "text/x-python",
   "name": "python",
   "nbconvert_exporter": "python",
   "pygments_lexer": "ipython3",
   "version": "3.7.2"
  }
 },
 "nbformat": 4,
 "nbformat_minor": 2
}
